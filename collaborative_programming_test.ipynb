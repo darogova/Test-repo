{
 "cells": [
  {
   "cell_type": "markdown",
   "id": "994b598a-84d4-4582-908d-3a583d19f8d3",
   "metadata": {},
   "source": [
    "# THIS IS OUR FIRST COLLABORATIVE CODING EXPERIENCE!"
   ]
  },
  {
   "cell_type": "markdown",
   "id": "857adc3c-cc77-4fde-a094-ba922f260e73",
   "metadata": {},
   "source": [
    "Let's write our own names:"
   ]
  },
  {
   "cell_type": "code",
   "execution_count": 7,
   "id": "01ab868f-9c7b-44e8-8f70-e76f83bfe0c1",
   "metadata": {},
   "outputs": [
    {
     "name": "stdout",
     "output_type": "stream",
     "text": [
      "What is your name? Alberto\n",
      "My name is:  Alberto.\n"
     ]
    }
   ],
   "source": [
    "name_1 = input('What is your name? ')\n",
    "print('My name is: ', name_1 + '.')"
   ]
  },
  {
   "cell_type": "code",
   "execution_count": 9,
   "id": "3b032883-7a8a-41d6-9b77-0c89090fac54",
   "metadata": {},
   "outputs": [
    {
     "name": "stdout",
     "output_type": "stream",
     "text": [
      "What is your name? Daria\n",
      "My name is:  Daria.\n"
     ]
    }
   ],
   "source": [
    "name_2 = input('What is your name? ')\n",
    "print('My name is: ', name_2 + '.')"
   ]
  }
 ],
 "metadata": {
  "kernelspec": {
   "display_name": "Python 3",
   "language": "python",
   "name": "python3"
  },
  "language_info": {
   "codemirror_mode": {
    "name": "ipython",
    "version": 3
   },
   "file_extension": ".py",
   "mimetype": "text/x-python",
   "name": "python",
   "nbconvert_exporter": "python",
   "pygments_lexer": "ipython3",
   "version": "3.8.8"
  }
 },
 "nbformat": 4,
 "nbformat_minor": 5
}
